{
 "cells": [
  {
   "cell_type": "markdown",
   "id": "738de467",
   "metadata": {},
   "source": [
    "# **Structure Output with LLM:**"
   ]
  },
  {
   "cell_type": "code",
   "execution_count": 12,
   "id": "0318b3bf",
   "metadata": {},
   "outputs": [],
   "source": [
    "from pydantic import BaseModel, Field, PositiveInt, ValidationError, NegativeInt\n",
    "from typing import List, Optional, Union, Dict, Any, Tuple, Literal\n",
    "from langchain_openai import OpenAI, ChatOpenAI\n",
    "from langchain_core.prompts import ChatPromptTemplate, PromptTemplate\n",
    "from langchain.output_parsers import PydanticOutputParser\n",
    "from datetime import datetime\n",
    "from dotenv import load_dotenv\n",
    "import os\n",
    "\n",
    "\n",
    "\n",
    "load_dotenv()\n",
    "os.environ[\"OPENAI_API_KEY\"] = os.getenv(\"OPENAI_API_KEY\")"
   ]
  },
  {
   "cell_type": "markdown",
   "id": "bfbef898",
   "metadata": {},
   "source": [
    "## **Load LLM:**"
   ]
  },
  {
   "cell_type": "code",
   "execution_count": 36,
   "id": "24a6a820",
   "metadata": {},
   "outputs": [
    {
     "data": {
      "text/plain": [
       "'Hello! How can I assist you today?'"
      ]
     },
     "execution_count": 36,
     "metadata": {},
     "output_type": "execute_result"
    }
   ],
   "source": [
    "class LLMParameter(BaseModel):\n",
    "    \"\"\"Base class for LLM parameters.\"\"\"\n",
    "    model_name: str = Field(..., description=\"Name of the LLM model.\")\n",
    "    max_tokens: PositiveInt = Field(512, ge=1, description=\"Maximum number of tokens to generate.\")\n",
    "    temperature: Union[int, float] = Field(0.7, ge=0.0, le=1.0, description=\"Sampling temperature.\")\n",
    "\n",
    "\n",
    "params = LLMParameter(\n",
    "    model_name=\"gpt-3.5-turbo\",\n",
    "    max_tokens=512,\n",
    "    temperature=1\n",
    ")\n",
    "\n",
    "\n",
    "llm = ChatOpenAI(\n",
    "    model=params.model_name,\n",
    "    max_tokens=params.max_tokens,\n",
    "    temperature=params.temperature\n",
    ")\n",
    "\n",
    "llm.invoke(\"Hi\").content"
   ]
  },
  {
   "cell_type": "markdown",
   "id": "fc1f255f",
   "metadata": {},
   "source": [
    "## **Example 01:**"
   ]
  },
  {
   "cell_type": "code",
   "execution_count": 8,
   "id": "c6af528e",
   "metadata": {},
   "outputs": [
    {
     "name": "stdout",
     "output_type": "stream",
     "text": [
      "This is ane example of validating data as expected - \n",
      "id=123 name='John Doe' signup_ts=datetime.datetime(2019, 6, 1, 12, 22) tastes={'wine': 9, 'cheese': 7, 'cabbage': 1}\n",
      "\n",
      "\n",
      "This is ane example of validating data as unexpected - \n",
      "\n",
      "Error:\n",
      "[{'type': 'missing', 'loc': ('signup_ts',), 'msg': 'Field required', 'input': {'id': 1, 'tastes': {}}, 'url': 'https://errors.pydantic.dev/2.10/v/missing'}]\n"
     ]
    }
   ],
   "source": [
    "class User(BaseModel):\n",
    "    id: int\n",
    "    name: str = 'John Doe'\n",
    "    signup_ts: datetime | None\n",
    "    tastes: dict[str, PositiveInt]\n",
    "\n",
    "\n",
    "external_data1 = {\n",
    "    'id': 123,\n",
    "    'signup_ts': '2019-06-01 12:22',  \n",
    "    'tastes': {\n",
    "        'wine': 9,\n",
    "        'cheese': 7,  \n",
    "        'cabbage': '1',  \n",
    "    },\n",
    "}\n",
    "external_data2 = {'id': 1, 'tastes': {}}  \n",
    "\n",
    "\n",
    "\n",
    "try:\n",
    "    # Valid data :\n",
    "    print(\"This is ane example of validating data as expected - \")\n",
    "    print(User(**external_data1) )\n",
    "\n",
    "    #Invalid data :\n",
    "    print(\"\\n\\nThis is ane example of validating data as unexpected - \")\n",
    "    print(User(**external_data2) )\n",
    "\n",
    "except ValidationError as e:\n",
    "    print(\"\\nError:\")\n",
    "    print(e.errors())"
   ]
  },
  {
   "cell_type": "code",
   "execution_count": 44,
   "id": "c8e8e03f",
   "metadata": {},
   "outputs": [
    {
     "data": {
      "text/plain": [
       "Conversation(messages=[Message(content='Hello, how can I help you today?', role='assistant', timestamp=datetime.datetime(2025, 4, 16, 20, 8, 20, 353637)), Message(content='I need information about your services', role='user', timestamp=datetime.datetime(2025, 4, 16, 20, 8, 20, 353637))], conversation_id='conv_12345', user_id=None)"
      ]
     },
     "execution_count": 44,
     "metadata": {},
     "output_type": "execute_result"
    }
   ],
   "source": [
    "class Message(BaseModel):\n",
    "    content: str\n",
    "    role: Literal[\"user\", \"assistant\", \"system\"]\n",
    "    timestamp: datetime = Field(default_factory=datetime.now)\n",
    "    \n",
    "    # Validation to ensure messages aren't empty\n",
    "    @classmethod\n",
    "    def validate_content(cls, v):\n",
    "        if not v.strip():\n",
    "            raise ValueError(\"Message content cannot be empty\")\n",
    "        return v\n",
    "\n",
    "class Conversation(BaseModel):\n",
    "    messages: List[Message]\n",
    "    conversation_id: str\n",
    "    user_id: Optional[str] = None\n",
    "    \n",
    "# Example usage\n",
    "conversation = Conversation(\n",
    "    conversation_id=\"conv_12345\",\n",
    "    messages=[\n",
    "        Message(content=\"Hello, how can I help you today?\", role=\"assistant\"),\n",
    "        Message(content=\"I need information about your services\", role=\"user\")\n",
    "    ]\n",
    ")\n",
    "\n",
    "conversation"
   ]
  },
  {
   "cell_type": "markdown",
   "id": "bee7bf01",
   "metadata": {},
   "source": [
    "## **Example 02:**"
   ]
  },
  {
   "cell_type": "code",
   "execution_count": 22,
   "id": "fa8a45b6",
   "metadata": {},
   "outputs": [
    {
     "data": {
      "text/plain": [
       "ChatPromptTemplate(input_variables=['format_instructions', 'text'], input_types={}, partial_variables={}, messages=[SystemMessagePromptTemplate(prompt=PromptTemplate(input_variables=[], input_types={}, partial_variables={}, template='You are a helpful assistant that extracts location info.'), additional_kwargs={}), HumanMessagePromptTemplate(prompt=PromptTemplate(input_variables=['format_instructions', 'text'], input_types={}, partial_variables={}, template='Extract the location info from this text:\\n\\n{text}\\n\\n{format_instructions}'), additional_kwargs={})])"
      ]
     },
     "execution_count": 22,
     "metadata": {},
     "output_type": "execute_result"
    }
   ],
   "source": [
    "# Step 1: Define your Pydantic model\n",
    "class Response(BaseModel):\n",
    "    \"\"\"Response model\"\"\"\n",
    "    city: str = Field(..., description=\"City name\")\n",
    "    state: str = Field(..., description=\"State name\")\n",
    "    country: str = Field(..., description=\"Country name\")\n",
    "    district: str = Field(..., description=\"District name\")\n",
    "    pincode: Union[int, None] = Field(None, description=\"Pincode\")\n",
    "\n",
    "\n",
    "# Step 2: Initialize the output parser for the model\n",
    "parser = PydanticOutputParser(pydantic_object=Response)\n",
    "\n",
    "\n",
    "# Step 3: Create the prompt template\n",
    "prompt = ChatPromptTemplate.from_messages([\n",
    "    (\"system\", \"You are a helpful assistant that extracts location info.\"),\n",
    "    (\"user\", \"Extract the location info from this text:\\n\\n{text}\\n\\n{format_instructions}\")\n",
    "])\n",
    "\n",
    "\n",
    "prompt"
   ]
  },
  {
   "cell_type": "code",
   "execution_count": null,
   "id": "3fcfda75",
   "metadata": {},
   "outputs": [],
   "source": [
    "# Step 4: Create the chain\n",
    "chain = prompt | llm | parser"
   ]
  },
  {
   "cell_type": "code",
   "execution_count": 27,
   "id": "c782acd1",
   "metadata": {},
   "outputs": [
    {
     "data": {
      "text/plain": [
       "Response(city='Siliguri', state='West Bengal', country='India', district='Darjeeling', pincode=734001)"
      ]
     },
     "execution_count": 27,
     "metadata": {},
     "output_type": "execute_result"
    }
   ],
   "source": [
    "query = \"Give me information of City Siliguri, State West Bengal, Country India, District Darjeeling, Pincode 734001.\"\n",
    "\n",
    "result = chain.invoke({\n",
    "    \"text\": query,\n",
    "    \"format_instructions\": parser.get_format_instructions()\n",
    "})\n",
    "\n",
    "result"
   ]
  },
  {
   "cell_type": "markdown",
   "id": "ba477129",
   "metadata": {},
   "source": [
    "## **Example 03:**"
   ]
  },
  {
   "cell_type": "code",
   "execution_count": 37,
   "id": "5dc510f9",
   "metadata": {},
   "outputs": [],
   "source": [
    "# Step 1: Define your Pydantic model\n",
    "class Response(BaseModel):\n",
    "    \"\"\"Response model\"\"\"\n",
    "    city: str = Field(..., description=\"City name\")\n",
    "    state: str = Field(..., description=\"State name\")\n",
    "    country: str = Field(..., description=\"Country name\")\n",
    "    district: str = Field(..., description=\"District name\")\n",
    "    pincode: Union[int, None] = Field(None, description=\"Pincode\")\n",
    "\n",
    "\n",
    "# Step 2: Initialize the output parser for the model\n",
    "parser = PydanticOutputParser(pydantic_object=Response)"
   ]
  },
  {
   "cell_type": "code",
   "execution_count": 38,
   "id": "e69b7a3c",
   "metadata": {},
   "outputs": [
    {
     "data": {
      "text/plain": [
       "ChatPromptTemplate(input_variables=['city', 'format_instructions'], input_types={}, partial_variables={}, messages=[SystemMessagePromptTemplate(prompt=PromptTemplate(input_variables=[], input_types={}, partial_variables={}, template=\"You are an CityTutor, named 'Lily' specializing in Extracting City Information.This CityTutor Designed by Dibyendu Biswas, an AI/ML Engineer\"), additional_kwargs={}), HumanMessagePromptTemplate(prompt=PromptTemplate(input_variables=['city', 'format_instructions'], input_types={}, partial_variables={}, template='Extract the City info from this input:\\n\\n{city}\\n\\n{format_instructions}'), additional_kwargs={})])"
      ]
     },
     "execution_count": 38,
     "metadata": {},
     "output_type": "execute_result"
    }
   ],
   "source": [
    "# Step 3: Create the prompt template\n",
    "# System Prompt: \n",
    "system_prompt = (\n",
    "    \"You are an CityTutor, named 'Lily' specializing in Extracting City Information.\"\n",
    "    \"This CityTutor Designed by Dibyendu Biswas, an AI/ML Engineer\"\n",
    ")\n",
    "\n",
    "\n",
    "prompt = ChatPromptTemplate.from_messages([\n",
    "    (\"system\", system_prompt),\n",
    "    (\"user\", \"Extract the City info from this input:\\n\\n{city}\\n\\n{format_instructions}\")\n",
    "])\n",
    "\n",
    "prompt"
   ]
  },
  {
   "cell_type": "code",
   "execution_count": 39,
   "id": "bba8d9c9",
   "metadata": {},
   "outputs": [],
   "source": [
    "# Step 4: Create the chain\n",
    "chain = prompt | llm | parser"
   ]
  },
  {
   "cell_type": "code",
   "execution_count": 40,
   "id": "5497ae78",
   "metadata": {},
   "outputs": [
    {
     "data": {
      "text/plain": [
       "Response(city='Siliguri', state='West Bengal', country='India', district='Darjeeling', pincode=None)"
      ]
     },
     "execution_count": 40,
     "metadata": {},
     "output_type": "execute_result"
    }
   ],
   "source": [
    "query = \"Siliguri\"\n",
    "response = chain.invoke(\n",
    "    {\n",
    "        \"city\": query,\n",
    "        \"format_instructions\": parser.get_format_instructions()\n",
    "    }\n",
    ")\n",
    "response"
   ]
  },
  {
   "cell_type": "code",
   "execution_count": 41,
   "id": "2f6c9bf1",
   "metadata": {},
   "outputs": [
    {
     "data": {
      "text/plain": [
       "Response(city='New Delhi', state='Delhi', country='India', district='New Delhi', pincode=None)"
      ]
     },
     "execution_count": 41,
     "metadata": {},
     "output_type": "execute_result"
    }
   ],
   "source": [
    "query = \"New Delhi\"\n",
    "response = chain.invoke(\n",
    "    {\n",
    "        \"city\": query,\n",
    "        \"format_instructions\": parser.get_format_instructions()\n",
    "    }\n",
    ")\n",
    "response"
   ]
  },
  {
   "cell_type": "code",
   "execution_count": 42,
   "id": "44a6d060",
   "metadata": {},
   "outputs": [
    {
     "data": {
      "text/plain": [
       "Response(city='Kolkata', state='West Bengal', country='India', district='Kolkata', pincode=None)"
      ]
     },
     "execution_count": 42,
     "metadata": {},
     "output_type": "execute_result"
    }
   ],
   "source": [
    "query = \"Kolkata\"\n",
    "response = chain.invoke(\n",
    "    {\n",
    "        \"city\": query,\n",
    "        \"format_instructions\": parser.get_format_instructions()\n",
    "    }\n",
    ")\n",
    "response"
   ]
  },
  {
   "cell_type": "markdown",
   "id": "cc3c68bd",
   "metadata": {},
   "source": [
    "## **Example 04:**"
   ]
  },
  {
   "cell_type": "code",
   "execution_count": 49,
   "id": "68ae5182",
   "metadata": {},
   "outputs": [],
   "source": [
    "# Step 1: Define your Pydantic model\n",
    "class Response(BaseModel):\n",
    "    \"\"\"Response model\"\"\"\n",
    "    description: str = Field(..., description=\"Description of the question\")\n",
    "    why: Union[str,None] = Field(None, description=\"Why it is required\")\n",
    "    pros: Union[List[str], str, None] = Field(None, description=\"Pros of the question\")\n",
    "    cons: Union[List[str], str, None] = Field(None, description=\"Cons of the question\")\n",
    "    examples: Union[List[str], str, None] = Field(None, description=\"Examples of the question\")\n",
    "    references: Union[List[str], str, None] = Field(None, description=\"References of the question\")\n",
    "\n",
    "\n",
    "# Step 2: Initialize the output parser for the model\n",
    "parser = PydanticOutputParser(pydantic_object=Response)"
   ]
  },
  {
   "cell_type": "code",
   "execution_count": 50,
   "id": "b567036c",
   "metadata": {},
   "outputs": [
    {
     "data": {
      "text/plain": [
       "ChatPromptTemplate(input_variables=['format_instructions', 'text'], input_types={}, partial_variables={}, messages=[SystemMessagePromptTemplate(prompt=PromptTemplate(input_variables=['format_instructions'], input_types={}, partial_variables={}, template=\"You are an expert AI Tutor named 'Lily', specializing in explaining all topics related to Science. This AI Tutor is designed by Dibyendu Biswas, an AI/ML Engineer. Your job is to provide clear, well-structured, and concise responses to science-related questions using the following JSON format:\\n\\n{format_instructions}\\n\\nEach response should include:\\n- A short description of the topic.\\n- An optional explanation of why it is important.\\n- Optional lists of pros, cons, examples, and references, if applicable.\\n\\nKeep the explanation simple, logical, and no longer than 4 sentences in the description field. Only answer science-related questions. If the question is unclear or unrelated to science, politely ask for clarification.If you don't know the answer, say 'I don't have idea about the topic.'\"), additional_kwargs={}), HumanMessagePromptTemplate(prompt=PromptTemplate(input_variables=['format_instructions', 'text'], input_types={}, partial_variables={}, template='Question: {text}\\n\\n{format_instructions}'), additional_kwargs={})])"
      ]
     },
     "execution_count": 50,
     "metadata": {},
     "output_type": "execute_result"
    }
   ],
   "source": [
    "# Step 3: Create the prompt template\n",
    "# System Prompt: \n",
    "system_prompt = (\n",
    "    \"You are an expert AI Tutor named 'Lily', specializing in explaining all topics related to Science. \"\n",
    "    \"This AI Tutor is designed by Dibyendu Biswas, an AI/ML Engineer. \"\n",
    "    \"Your job is to provide clear, well-structured, and concise responses to science-related questions using the following JSON format:\\n\\n\"\n",
    "    \"{format_instructions}\\n\\n\"\n",
    "    \"Each response should include:\\n\"\n",
    "    \"- A short description of the topic.\\n\"\n",
    "    \"- An optional explanation of why it is important.\\n\"\n",
    "    \"- Optional lists of pros, cons, examples, and references, if applicable.\\n\\n\"\n",
    "    \"Keep the explanation simple, logical, and no longer than 4 sentences in the description field. \"\n",
    "    \"Only answer science-related questions. If the question is unclear or unrelated to science, politely ask for clarification.\"\n",
    "    \"If you don't know the answer, say 'I don't have idea about the topic.'\"\n",
    ")\n",
    "\n",
    "\n",
    "prompt = ChatPromptTemplate.from_messages([\n",
    "    (\"system\", system_prompt),\n",
    "    (\"user\", \"Question: {text}\\n\\n{format_instructions}\")\n",
    "])\n",
    "\n",
    "prompt\n"
   ]
  },
  {
   "cell_type": "code",
   "execution_count": 51,
   "id": "e93b080d",
   "metadata": {},
   "outputs": [],
   "source": [
    "chain = prompt | llm | parser"
   ]
  },
  {
   "cell_type": "code",
   "execution_count": 52,
   "id": "b1c8950d",
   "metadata": {},
   "outputs": [
    {
     "data": {
      "text/plain": [
       "Response(description='Photosynthesis is the process by which green plants, algae, and some bacteria convert light energy, usually from the sun, into chemical energy stored in glucose molecules. This process involves the absorption of carbon dioxide and the release of oxygen as a byproduct.', why='Photosynthesis is essential for life on Earth as it is the primary way in which oxygen is generated into the atmosphere. It is also the basis of the food chain, as plants are the primary producers that support all other organisms.', pros=['Essential for oxygen production which is crucial for aerobic organisms.', 'Provides the foundation of the food web, sustaining all living creatures that depend on plants for food.'], cons=['Dependent on external factors such as light availability and environmental conditions.', 'Imbalance in photosynthesis can lead to ecological disruptions and imbalances.'], examples=['An example of photosynthesis is a tree taking in carbon dioxide, water, and sunlight to produce oxygen and glucose.', \"Aquatic plants undergo photosynthesis using sunlight that penetrates the water's surface.\"], references=['https://www.britannica.com/science/photosynthesis', 'https://www.cliffsnotes.com/study-guides/biology/biochemistry-i/photosynthesis'])"
      ]
     },
     "execution_count": 52,
     "metadata": {},
     "output_type": "execute_result"
    }
   ],
   "source": [
    "result = chain.invoke({\n",
    "    \"text\": \"What is photosynthesis?\",\n",
    "    \"format_instructions\": parser.get_format_instructions()\n",
    "})\n",
    "\n",
    "result"
   ]
  },
  {
   "cell_type": "code",
   "execution_count": 54,
   "id": "526c0a45",
   "metadata": {},
   "outputs": [
    {
     "data": {
      "text/markdown": [
       "**Description:** Photosynthesis is the process by which green plants, algae, and some bacteria convert light energy, usually from the sun, into chemical energy stored in glucose molecules. This process involves the absorption of carbon dioxide and the release of oxygen as a byproduct."
      ],
      "text/plain": [
       "<IPython.core.display.Markdown object>"
      ]
     },
     "metadata": {},
     "output_type": "display_data"
    },
    {
     "data": {
      "text/markdown": [
       "**Why:** Photosynthesis is essential for life on Earth as it is the primary way in which oxygen is generated into the atmosphere. It is also the basis of the food chain, as plants are the primary producers that support all other organisms."
      ],
      "text/plain": [
       "<IPython.core.display.Markdown object>"
      ]
     },
     "metadata": {},
     "output_type": "display_data"
    },
    {
     "data": {
      "text/markdown": [
       "**Pros:** ['Essential for oxygen production which is crucial for aerobic organisms.', 'Provides the foundation of the food web, sustaining all living creatures that depend on plants for food.']"
      ],
      "text/plain": [
       "<IPython.core.display.Markdown object>"
      ]
     },
     "metadata": {},
     "output_type": "display_data"
    },
    {
     "data": {
      "text/markdown": [
       "**Cons:** ['Dependent on external factors such as light availability and environmental conditions.', 'Imbalance in photosynthesis can lead to ecological disruptions and imbalances.']"
      ],
      "text/plain": [
       "<IPython.core.display.Markdown object>"
      ]
     },
     "metadata": {},
     "output_type": "display_data"
    },
    {
     "data": {
      "text/markdown": [
       "**Examples:** ['An example of photosynthesis is a tree taking in carbon dioxide, water, and sunlight to produce oxygen and glucose.', \"Aquatic plants undergo photosynthesis using sunlight that penetrates the water's surface.\"]"
      ],
      "text/plain": [
       "<IPython.core.display.Markdown object>"
      ]
     },
     "metadata": {},
     "output_type": "display_data"
    },
    {
     "data": {
      "text/markdown": [
       "**References:** ['https://www.britannica.com/science/photosynthesis', 'https://www.cliffsnotes.com/study-guides/biology/biochemistry-i/photosynthesis']"
      ],
      "text/plain": [
       "<IPython.core.display.Markdown object>"
      ]
     },
     "metadata": {},
     "output_type": "display_data"
    }
   ],
   "source": [
    "display(Markdown(f\"**Description:** {result.description}\"))\n",
    "display(Markdown(f\"**Why:** {result.why}\"))\n",
    "display(Markdown(f\"**Pros:** {result.pros}\"))\n",
    "display(Markdown(f\"**Cons:** {result.cons}\"))\n",
    "display(Markdown(f\"**Examples:** {result.examples}\"))\n",
    "display(Markdown(f\"**References:** {result.references}\"))"
   ]
  },
  {
   "cell_type": "code",
   "execution_count": null,
   "id": "b1cdffc2",
   "metadata": {},
   "outputs": [],
   "source": []
  },
  {
   "cell_type": "markdown",
   "id": "fce3dcd0",
   "metadata": {},
   "source": [
    "## **References:**\n",
    "\n",
    "https://github.com/dibyendubiswas1998/Agentic-AI/tree/main/LangGraph/A_LangGraph_Glossary"
   ]
  },
  {
   "cell_type": "markdown",
   "id": "eff90005",
   "metadata": {},
   "source": []
  }
 ],
 "metadata": {
  "kernelspec": {
   "display_name": "aitutor",
   "language": "python",
   "name": "python3"
  },
  "language_info": {
   "codemirror_mode": {
    "name": "ipython",
    "version": 3
   },
   "file_extension": ".py",
   "mimetype": "text/x-python",
   "name": "python",
   "nbconvert_exporter": "python",
   "pygments_lexer": "ipython3",
   "version": "3.10.16"
  }
 },
 "nbformat": 4,
 "nbformat_minor": 5
}
